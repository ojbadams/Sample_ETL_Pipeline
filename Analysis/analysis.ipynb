{
 "cells": [
  {
   "cell_type": "code",
   "execution_count": 2,
   "metadata": {},
   "outputs": [],
   "source": [
    "import requests\n",
    "\n",
    "response = requests.get(\"https://api.tfl.gov.uk/BikePoint/\")"
   ]
  },
  {
   "cell_type": "code",
   "execution_count": 5,
   "metadata": {},
   "outputs": [],
   "source": [
    "import json"
   ]
  },
  {
   "cell_type": "code",
   "execution_count": 14,
   "metadata": {},
   "outputs": [
    {
     "data": {
      "text/plain": [
       "{'$type': 'Tfl.Api.Presentation.Entities.Place, Tfl.Api.Presentation.Entities',\n",
       " 'id': 'BikePoints_1',\n",
       " 'url': '/Place/BikePoints_1',\n",
       " 'commonName': 'River Street , Clerkenwell',\n",
       " 'placeType': 'BikePoint',\n",
       " 'additionalProperties': [{'$type': 'Tfl.Api.Presentation.Entities.AdditionalProperties, Tfl.Api.Presentation.Entities',\n",
       "   'category': 'Description',\n",
       "   'key': 'TerminalName',\n",
       "   'sourceSystemKey': 'BikePoints',\n",
       "   'value': '001023',\n",
       "   'modified': '2022-11-26T18:29:08.05Z'},\n",
       "  {'$type': 'Tfl.Api.Presentation.Entities.AdditionalProperties, Tfl.Api.Presentation.Entities',\n",
       "   'category': 'Description',\n",
       "   'key': 'Installed',\n",
       "   'sourceSystemKey': 'BikePoints',\n",
       "   'value': 'true',\n",
       "   'modified': '2022-11-26T18:29:08.05Z'},\n",
       "  {'$type': 'Tfl.Api.Presentation.Entities.AdditionalProperties, Tfl.Api.Presentation.Entities',\n",
       "   'category': 'Description',\n",
       "   'key': 'Locked',\n",
       "   'sourceSystemKey': 'BikePoints',\n",
       "   'value': 'false',\n",
       "   'modified': '2022-11-26T18:29:08.05Z'},\n",
       "  {'$type': 'Tfl.Api.Presentation.Entities.AdditionalProperties, Tfl.Api.Presentation.Entities',\n",
       "   'category': 'Description',\n",
       "   'key': 'InstallDate',\n",
       "   'sourceSystemKey': 'BikePoints',\n",
       "   'value': '1278947280000',\n",
       "   'modified': '2022-11-26T18:29:08.05Z'},\n",
       "  {'$type': 'Tfl.Api.Presentation.Entities.AdditionalProperties, Tfl.Api.Presentation.Entities',\n",
       "   'category': 'Description',\n",
       "   'key': 'RemovalDate',\n",
       "   'sourceSystemKey': 'BikePoints',\n",
       "   'value': '',\n",
       "   'modified': '2022-11-26T18:29:08.05Z'},\n",
       "  {'$type': 'Tfl.Api.Presentation.Entities.AdditionalProperties, Tfl.Api.Presentation.Entities',\n",
       "   'category': 'Description',\n",
       "   'key': 'Temporary',\n",
       "   'sourceSystemKey': 'BikePoints',\n",
       "   'value': 'false',\n",
       "   'modified': '2022-11-26T18:29:08.05Z'},\n",
       "  {'$type': 'Tfl.Api.Presentation.Entities.AdditionalProperties, Tfl.Api.Presentation.Entities',\n",
       "   'category': 'Description',\n",
       "   'key': 'NbBikes',\n",
       "   'sourceSystemKey': 'BikePoints',\n",
       "   'value': '6',\n",
       "   'modified': '2022-11-26T18:29:08.05Z'},\n",
       "  {'$type': 'Tfl.Api.Presentation.Entities.AdditionalProperties, Tfl.Api.Presentation.Entities',\n",
       "   'category': 'Description',\n",
       "   'key': 'NbEmptyDocks',\n",
       "   'sourceSystemKey': 'BikePoints',\n",
       "   'value': '13',\n",
       "   'modified': '2022-11-26T18:29:08.05Z'},\n",
       "  {'$type': 'Tfl.Api.Presentation.Entities.AdditionalProperties, Tfl.Api.Presentation.Entities',\n",
       "   'category': 'Description',\n",
       "   'key': 'NbDocks',\n",
       "   'sourceSystemKey': 'BikePoints',\n",
       "   'value': '19',\n",
       "   'modified': '2022-11-26T18:29:08.05Z'},\n",
       "  {'$type': 'Tfl.Api.Presentation.Entities.AdditionalProperties, Tfl.Api.Presentation.Entities',\n",
       "   'category': 'Description',\n",
       "   'key': 'NbStandardBikes',\n",
       "   'sourceSystemKey': 'BikePoints',\n",
       "   'value': '6',\n",
       "   'modified': '2022-11-26T18:29:08.05Z'},\n",
       "  {'$type': 'Tfl.Api.Presentation.Entities.AdditionalProperties, Tfl.Api.Presentation.Entities',\n",
       "   'category': 'Description',\n",
       "   'key': 'NbEBikes',\n",
       "   'sourceSystemKey': 'BikePoints',\n",
       "   'value': '0',\n",
       "   'modified': '2022-11-26T18:29:08.05Z'}],\n",
       " 'children': [],\n",
       " 'childrenUrls': [],\n",
       " 'lat': 51.529163,\n",
       " 'lon': -0.10997}"
      ]
     },
     "execution_count": 14,
     "metadata": {},
     "output_type": "execute_result"
    }
   ],
   "source": [
    "json.loads(response.content)[0]#.keys()"
   ]
  },
  {
   "cell_type": "code",
   "execution_count": null,
   "metadata": {},
   "outputs": [],
   "source": []
  }
 ],
 "metadata": {
  "kernelspec": {
   "display_name": "Python 3.10.6 64-bit",
   "language": "python",
   "name": "python3"
  },
  "language_info": {
   "codemirror_mode": {
    "name": "ipython",
    "version": 3
   },
   "file_extension": ".py",
   "mimetype": "text/x-python",
   "name": "python",
   "nbconvert_exporter": "python",
   "pygments_lexer": "ipython3",
   "version": "3.10.6"
  },
  "orig_nbformat": 4,
  "vscode": {
   "interpreter": {
    "hash": "916dbcbb3f70747c44a77c7bcd40155683ae19c65e1c03b4aa3499c5328201f1"
   }
  }
 },
 "nbformat": 4,
 "nbformat_minor": 2
}
